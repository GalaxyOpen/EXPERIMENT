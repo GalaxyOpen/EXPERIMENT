{
 "cells": [
  {
   "cell_type": "code",
   "execution_count": 2,
   "metadata": {},
   "outputs": [],
   "source": [
    "\n",
    "# 기본 라이브러리\n",
    "import numpy as np\n",
    "import pandas as pd\n",
    "import seaborn as sns\n",
    "\n",
    "# 그래프 라이브러리\n",
    "import matplotlib as mpl\n",
    "import matplotlib.pyplot as plt\n",
    "import matplotlib_inline.backend_inline\n",
    "\n",
    "# 기본 설정 \n",
    "\n",
    "matplotlib_inline.backend_inline.set_matplotlib_formats(\"png2x\")\n",
    "mpl.style.use(\"seaborn-v0_8\")\n",
    "mpl.rcParams.update({\"figure.constrained_layout.use\": True})\n",
    "sns.set_context(\"paper\") \n",
    "sns.set_palette(\"Set2\") \n",
    "sns.set_style(\"whitegrid\") \n",
    "\n",
    "plt.rc(\"font\", family = \"Malgun Gothic\")\n",
    "plt.rcParams[\"axes.unicode_minus\"] = False"
   ]
  },
  {
   "cell_type": "code",
   "execution_count": 3,
   "metadata": {},
   "outputs": [
    {
     "data": {
      "text/plain": [
       "'c:\\\\Users\\\\Administrator\\\\Desktop\\\\experiment\\\\code'"
      ]
     },
     "execution_count": 3,
     "metadata": {},
     "output_type": "execute_result"
    }
   ],
   "source": [
    "import os\n",
    "os.getcwd()"
   ]
  },
  {
   "cell_type": "code",
   "execution_count": null,
   "metadata": {},
   "outputs": [],
   "source": [
    "# 경로 설정 = json 4개의 파일 경로 입력 // 따로 열진 않음. \n",
    "import json\n",
    "\n",
    "with open(\"../data/image_data/train/label/train/train_anger.json\", encoding=\"cp949\") as f:\n",
    "    data1 = json.load(f)\n",
    "with open(\"../data/image_data/train/label/train/train_happy.json\", encoding=\"cp949\") as f:\n",
    "    data2 = json.load(f)\n",
    "with open(\"../data/image_data/train/label/train/train_panic.json\", encoding=\"cp949\") as f:\n",
    "    data3 = json.load(f)\n",
    "with open(\"../data/image_data/train/label/train/train_sadness.json\", encoding=\"cp949\") as f:\n",
    "    data4 = json.load(f)"
   ]
  },
  {
   "cell_type": "code",
   "execution_count": null,
   "metadata": {},
   "outputs": [],
   "source": [
    "\n",
    "# 파일 수와 폴더 목록을 가져오는 함수\n",
    "import os\n",
    "\n",
    "def count_files_in_directory(directory_path):\n",
    "    try:\n",
    "        # 디렉토리 안의 파일과 폴더 목록을 가져옵니다.\n",
    "        entries = os.listdir(directory_path)\n",
    "        # 파일만 카운트합니다.\n",
    "        file_count = sum(1 for entry in entries if os.path.isfile(os.path.join(directory_path, entry)))\n",
    "        return file_count\n",
    "    except FileNotFoundError:\n",
    "        print(\"지정한 경로가 존재하지 않습니다.\")\n",
    "        return None"
   ]
  },
  {
   "cell_type": "code",
   "execution_count": null,
   "metadata": {},
   "outputs": [],
   "source": [
    "# 경로는 자유롭게 변경하여 사용. 하되, json 파일 위의 파일 경로를 정확히 한다. \n",
    "train_directory_path = '../data/image_data/train/img/train/'\n",
    "print(f\"화남 파일 개수: {count_files_in_directory(train_directory_path + 'anger'):4d} ,json 딕셔너리 갯수 {len(data1):4d}\")\n",
    "print(f\"행복 파일 개수: {count_files_in_directory(train_directory_path + 'happy'):4d} ,json 딕셔너리 갯수 {len(data2):4d}\")\n",
    "print(f\"패닉 파일 개수: {count_files_in_directory(train_directory_path + 'panic'):4d} ,json 딕셔너리 갯수 {len(data3):4d}\")\n",
    "print(f\"슬픔 파일 개수: {count_files_in_directory(train_directory_path + 'sadness'):4d} ,json 딕셔너리 갯수 {len(data4):4d}\")"
   ]
  },
  {
   "cell_type": "code",
   "execution_count": null,
   "metadata": {},
   "outputs": [],
   "source": [
    "\n",
    "import os\n",
    "\n",
    "def find_images(root_dir):\n",
    "    # 이미지 확장자 목록\n",
    "    image_extensions = {'.jpg', '.jpeg', '.png', '.gif', '.bmp'}\n",
    "    \n",
    "    image_files = []\n",
    "    \n",
    "    for root, dirs, files in os.walk(root_dir):\n",
    "        for file in files:\n",
    "            if os.path.splitext(file)[1].lower() in image_extensions:\n",
    "                image_files.append(os.path.join(root, file))\n",
    "    \n",
    "    return image_files"
   ]
  },
  {
   "cell_type": "code",
   "execution_count": null,
   "metadata": {},
   "outputs": [],
   "source": [
    "train_datas_paths = find_images(train_directory_path)\n",
    "file_name = train_datas_paths[0].split('\\\\')[1]"
   ]
  },
  {
   "cell_type": "code",
   "execution_count": null,
   "metadata": {},
   "outputs": [],
   "source": [
    "\n",
    "all_jasons = data1 + data2 + data3 + data4"
   ]
  },
  {
   "cell_type": "code",
   "execution_count": null,
   "metadata": {},
   "outputs": [],
   "source": [
    "\n",
    "# 얼굴 감정 담기\n",
    "label = []\n",
    "\n",
    "for i in all_jasons:\n",
    "    label.append(i['faceExp_uploader']) # 아래의 7가지 감정을 할 것인가 4가지 감정을 할 것인가 고민하다가 7가지로 정함. \n",
    "    # label.append(i['annot_A']['faceExp'])\n",
    "    # label.append(i['annot_B']['faceExp'])\n",
    "    # label.append(i['annot_C']['faceExp'])"
   ]
  },
  {
   "cell_type": "code",
   "execution_count": null,
   "metadata": {},
   "outputs": [],
   "source": [
    "# 라벨에 모인 값을 중복값을 제외하고 보여줌\n",
    "set(label)"
   ]
  },
  {
   "cell_type": "code",
   "execution_count": null,
   "metadata": {},
   "outputs": [],
   "source": [
    "# 배경 값 담기\n",
    "bgs = []\n",
    "\n",
    "for i in all_jasons:\n",
    "    bgs.append(i['annot_A']['bg'])\n",
    "    bgs.append(i['annot_B']['bg'])\n",
    "    bgs.append(i['annot_C']['bg'])"
   ]
  },
  {
   "cell_type": "code",
   "execution_count": null,
   "metadata": {},
   "outputs": [],
   "source": [
    "# bgs에 모인 값을 중복값을 제외하고 보여줌\n",
    "set(bgs)"
   ]
  },
  {
   "cell_type": "code",
   "execution_count": null,
   "metadata": {},
   "outputs": [],
   "source": [
    "# 랜덤으로 사진 한 장 뽑기 \n",
    "import cv2\n",
    "import numpy as np\n",
    "import matplotlib.pyplot as plt\n",
    "import random\n",
    "\n",
    "i = random.randint(1, len(train_datas_paths)-2) \n",
    "\n",
    "name = all_jasons[i]['filename']\n",
    "expr = all_jasons[i]['faceExp_uploader']\n",
    "boxe = all_jasons[i]['annot_A']['boxes']\n",
    "back = all_jasons[i]['annot_A']['bg']\n",
    "\n",
    "min_x, min_y, max_x, max_y = [int(value) for value in boxe.values()] \n",
    "name, expr, min_x, min_y, max_x, max_y, back\n",
    "\n",
    "for i in train_datas_paths:\n",
    "    if name in i:\n",
    "        img_path = i\n",
    "\n",
    "image = cv2.imread(img_path)\n",
    "\n",
    "cv2.rectangle(image, (min_x, min_y), (max_x, max_y), (0, 255, 0), 10)\n",
    "plt.axis('off')\n",
    "\n",
    "plt.imshow(cv2.cvtColor(image, cv2.COLOR_BGR2RGB))\n",
    "\n",
    "plt.text(max_x, max_y, expr, color='white', fontsize=25,\n",
    "         ha='left', va='top')\n",
    "\n",
    "\n",
    "plt.show()"
   ]
  },
  {
   "cell_type": "code",
   "execution_count": 5,
   "metadata": {},
   "outputs": [
    {
     "ename": "OSError",
     "evalue": "[WinError 126] 지정된 모듈을 찾을 수 없습니다. Error loading \"c:\\users\\administrator\\miniconda3\\lib\\site-packages\\torch\\lib\\fbgemm.dll\" or one of its dependencies.",
     "output_type": "error",
     "traceback": [
      "\u001b[1;31m---------------------------------------------------------------------------\u001b[0m",
      "\u001b[1;31mOSError\u001b[0m                                   Traceback (most recent call last)",
      "Cell \u001b[1;32mIn[5], line 1\u001b[0m\n\u001b[1;32m----> 1\u001b[0m \u001b[38;5;28;01mfrom\u001b[39;00m \u001b[38;5;21;01multralytics\u001b[39;00m \u001b[38;5;28;01mimport\u001b[39;00m YOLOv10\n\u001b[0;32m      3\u001b[0m \u001b[38;5;66;03m# model = YOLOv10('yolov10m')\u001b[39;00m\n\u001b[0;32m      4\u001b[0m \u001b[38;5;66;03m# If you want to finetune the model with pretrained weights, you could load the \u001b[39;00m\n\u001b[0;32m      5\u001b[0m \u001b[38;5;66;03m# pretrained weights like below\u001b[39;00m\n\u001b[1;32m   (...)\u001b[0m\n\u001b[0;32m     13\u001b[0m \n\u001b[0;32m     14\u001b[0m \u001b[38;5;66;03m# 예측 코드\u001b[39;00m\n\u001b[0;32m     15\u001b[0m model \u001b[38;5;241m=\u001b[39m YOLOv10\u001b[38;5;241m.\u001b[39mfrom_pretrained(\u001b[38;5;124m'\u001b[39m\u001b[38;5;124mjameslahm/yolov10s\u001b[39m\u001b[38;5;124m'\u001b[39m)\n",
      "File \u001b[1;32mc:\\users\\administrator\\miniconda3\\lib\\site-packages\\ultralytics\\__init__.py:10\u001b[0m\n\u001b[0;32m      7\u001b[0m \u001b[38;5;66;03m# Set ENV Variables (place before imports)\u001b[39;00m\n\u001b[0;32m      8\u001b[0m os\u001b[38;5;241m.\u001b[39menviron[\u001b[38;5;124m\"\u001b[39m\u001b[38;5;124mOMP_NUM_THREADS\u001b[39m\u001b[38;5;124m\"\u001b[39m] \u001b[38;5;241m=\u001b[39m \u001b[38;5;124m\"\u001b[39m\u001b[38;5;124m1\u001b[39m\u001b[38;5;124m\"\u001b[39m  \u001b[38;5;66;03m# reduce CPU utilization during training\u001b[39;00m\n\u001b[1;32m---> 10\u001b[0m \u001b[38;5;28;01mfrom\u001b[39;00m \u001b[38;5;21;01multralytics\u001b[39;00m\u001b[38;5;21;01m.\u001b[39;00m\u001b[38;5;21;01mdata\u001b[39;00m\u001b[38;5;21;01m.\u001b[39;00m\u001b[38;5;21;01mexplorer\u001b[39;00m\u001b[38;5;21;01m.\u001b[39;00m\u001b[38;5;21;01mexplorer\u001b[39;00m \u001b[38;5;28;01mimport\u001b[39;00m Explorer\n\u001b[0;32m     11\u001b[0m \u001b[38;5;28;01mfrom\u001b[39;00m \u001b[38;5;21;01multralytics\u001b[39;00m\u001b[38;5;21;01m.\u001b[39;00m\u001b[38;5;21;01mmodels\u001b[39;00m \u001b[38;5;28;01mimport\u001b[39;00m NAS, RTDETR, SAM, YOLO, FastSAM, YOLOWorld\n\u001b[0;32m     12\u001b[0m \u001b[38;5;28;01mfrom\u001b[39;00m \u001b[38;5;21;01multralytics\u001b[39;00m\u001b[38;5;21;01m.\u001b[39;00m\u001b[38;5;21;01mutils\u001b[39;00m \u001b[38;5;28;01mimport\u001b[39;00m ASSETS, SETTINGS\n",
      "File \u001b[1;32mc:\\users\\administrator\\miniconda3\\lib\\site-packages\\ultralytics\\data\\__init__.py:3\u001b[0m\n\u001b[0;32m      1\u001b[0m \u001b[38;5;66;03m# Ultralytics YOLO 🚀, AGPL-3.0 license\u001b[39;00m\n\u001b[1;32m----> 3\u001b[0m \u001b[38;5;28;01mfrom\u001b[39;00m \u001b[38;5;21;01m.\u001b[39;00m\u001b[38;5;21;01mbase\u001b[39;00m \u001b[38;5;28;01mimport\u001b[39;00m BaseDataset\n\u001b[0;32m      4\u001b[0m \u001b[38;5;28;01mfrom\u001b[39;00m \u001b[38;5;21;01m.\u001b[39;00m\u001b[38;5;21;01mbuild\u001b[39;00m \u001b[38;5;28;01mimport\u001b[39;00m build_dataloader, build_grounding, build_yolo_dataset, load_inference_source\n\u001b[0;32m      5\u001b[0m \u001b[38;5;28;01mfrom\u001b[39;00m \u001b[38;5;21;01m.\u001b[39;00m\u001b[38;5;21;01mdataset\u001b[39;00m \u001b[38;5;28;01mimport\u001b[39;00m (\n\u001b[0;32m      6\u001b[0m     ClassificationDataset,\n\u001b[0;32m      7\u001b[0m     GroundingDataset,\n\u001b[1;32m   (...)\u001b[0m\n\u001b[0;32m     11\u001b[0m     YOLOMultiModalDataset,\n\u001b[0;32m     12\u001b[0m )\n",
      "File \u001b[1;32mc:\\users\\administrator\\miniconda3\\lib\\site-packages\\ultralytics\\data\\base.py:15\u001b[0m\n\u001b[0;32m     13\u001b[0m \u001b[38;5;28;01mimport\u001b[39;00m \u001b[38;5;21;01mnumpy\u001b[39;00m \u001b[38;5;28;01mas\u001b[39;00m \u001b[38;5;21;01mnp\u001b[39;00m\n\u001b[0;32m     14\u001b[0m \u001b[38;5;28;01mimport\u001b[39;00m \u001b[38;5;21;01mpsutil\u001b[39;00m\n\u001b[1;32m---> 15\u001b[0m \u001b[38;5;28;01mfrom\u001b[39;00m \u001b[38;5;21;01mtorch\u001b[39;00m\u001b[38;5;21;01m.\u001b[39;00m\u001b[38;5;21;01mutils\u001b[39;00m\u001b[38;5;21;01m.\u001b[39;00m\u001b[38;5;21;01mdata\u001b[39;00m \u001b[38;5;28;01mimport\u001b[39;00m Dataset\n\u001b[0;32m     17\u001b[0m \u001b[38;5;28;01mfrom\u001b[39;00m \u001b[38;5;21;01multralytics\u001b[39;00m\u001b[38;5;21;01m.\u001b[39;00m\u001b[38;5;21;01mdata\u001b[39;00m\u001b[38;5;21;01m.\u001b[39;00m\u001b[38;5;21;01mutils\u001b[39;00m \u001b[38;5;28;01mimport\u001b[39;00m FORMATS_HELP_MSG, HELP_URL, IMG_FORMATS\n\u001b[0;32m     18\u001b[0m \u001b[38;5;28;01mfrom\u001b[39;00m \u001b[38;5;21;01multralytics\u001b[39;00m\u001b[38;5;21;01m.\u001b[39;00m\u001b[38;5;21;01mutils\u001b[39;00m \u001b[38;5;28;01mimport\u001b[39;00m DEFAULT_CFG, LOCAL_RANK, LOGGER, NUM_THREADS, TQDM\n",
      "File \u001b[1;32mc:\\users\\administrator\\miniconda3\\lib\\site-packages\\torch\\__init__.py:148\u001b[0m\n\u001b[0;32m    146\u001b[0m                 err \u001b[38;5;241m=\u001b[39m ctypes\u001b[38;5;241m.\u001b[39mWinError(ctypes\u001b[38;5;241m.\u001b[39mget_last_error())\n\u001b[0;32m    147\u001b[0m                 err\u001b[38;5;241m.\u001b[39mstrerror \u001b[38;5;241m+\u001b[39m\u001b[38;5;241m=\u001b[39m \u001b[38;5;124mf\u001b[39m\u001b[38;5;124m'\u001b[39m\u001b[38;5;124m Error loading \u001b[39m\u001b[38;5;124m\"\u001b[39m\u001b[38;5;132;01m{\u001b[39;00mdll\u001b[38;5;132;01m}\u001b[39;00m\u001b[38;5;124m\"\u001b[39m\u001b[38;5;124m or one of its dependencies.\u001b[39m\u001b[38;5;124m'\u001b[39m\n\u001b[1;32m--> 148\u001b[0m                 \u001b[38;5;28;01mraise\u001b[39;00m err\n\u001b[0;32m    150\u001b[0m     kernel32\u001b[38;5;241m.\u001b[39mSetErrorMode(prev_error_mode)\n\u001b[0;32m    153\u001b[0m \u001b[38;5;28;01mdef\u001b[39;00m \u001b[38;5;21m_preload_cuda_deps\u001b[39m(lib_folder, lib_name):\n",
      "\u001b[1;31mOSError\u001b[0m: [WinError 126] 지정된 모듈을 찾을 수 없습니다. Error loading \"c:\\users\\administrator\\miniconda3\\lib\\site-packages\\torch\\lib\\fbgemm.dll\" or one of its dependencies."
     ]
    }
   ],
   "source": [
    "from ultralytics import YOLOv10\n",
    "\n",
    "# model = YOLOv10('yolov10m')\n",
    "# If you want to finetune the model with pretrained weights, you could load the \n",
    "# pretrained weights like below\n",
    "# model = YOLOv10.from_pretrained('jameslahm/yolov10{n/s/m/b/l/x}')\n",
    "# or\n",
    "# wget https://github.com/THU-MIG/yolov10/releases/download/v1.1/yolov10{n/s/m/b/l/x}.pt\n",
    "# model = YOLOv10('yolov10{n/s/m/b/l/x}.pt')\n",
    "\n",
    "# 훈련 코드\n",
    "# model.train(data='coco.yaml', epochs=500, batch=256, imgsz=640)\n",
    "\n",
    "# 예측 코드\n",
    "model = YOLOv10.from_pretrained('jameslahm/yolov10s')\n",
    "# yolo 10 프리트레인드 모델중에 좀더 많은 분류를 할 수 있는 모델 찾기\n",
    "\n",
    "result=model.predict(image)"
   ]
  },
  {
   "cell_type": "code",
   "execution_count": null,
   "metadata": {},
   "outputs": [],
   "source": [
    "objects_form_pic = []\n",
    "#result[0].boxes.cls는 탐지된 객체들이 가지고 있는 클래스의 인덱스\n",
    "for i in result[0].boxes.cls:\n",
    "    objects_form_pic.append(result[0].names[int(i)])"
   ]
  },
  {
   "cell_type": "code",
   "execution_count": null,
   "metadata": {},
   "outputs": [],
   "source": [
    "objects_form_pic"
   ]
  },
  {
   "cell_type": "code",
   "execution_count": null,
   "metadata": {},
   "outputs": [],
   "source": [
    "# result[0].boxes.conf는 해당 객체가 실제로 탐지된 클래스일 확률을 나타내는 신뢰도 점수\n",
    "result[0].boxes.conf"
   ]
  },
  {
   "cell_type": "code",
   "execution_count": null,
   "metadata": {},
   "outputs": [],
   "source": [
    "plt.imshow(result[0].plot())\n",
    "plt.axis('off')  # 축 숨기기\n",
    "plt.show()\n",
    "back"
   ]
  }
 ],
 "metadata": {
  "kernelspec": {
   "display_name": "Python 3",
   "language": "python",
   "name": "python3"
  },
  "language_info": {
   "codemirror_mode": {
    "name": "ipython",
    "version": 3
   },
   "file_extension": ".py",
   "mimetype": "text/x-python",
   "name": "python",
   "nbconvert_exporter": "python",
   "pygments_lexer": "ipython3",
   "version": "3.12.5"
  }
 },
 "nbformat": 4,
 "nbformat_minor": 2
}
