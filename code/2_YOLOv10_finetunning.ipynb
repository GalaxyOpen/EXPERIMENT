{
 "cells": [
  {
   "cell_type": "code",
   "execution_count": 1,
   "metadata": {},
   "outputs": [],
   "source": [
    "# 기본 라이브러리\n",
    "import numpy as np\n",
    "import pandas as pd\n",
    "import seaborn as sns\n",
    "\n",
    "# 그래프 라이브러리\n",
    "import matplotlib as mpl\n",
    "import matplotlib.pyplot as plt\n",
    "import matplotlib_inline.backend_inline\n",
    "\n",
    "# 기본 설정 \n",
    "\n",
    "matplotlib_inline.backend_inline.set_matplotlib_formats(\"png2x\")\n",
    "mpl.style.use(\"seaborn-v0_8\")\n",
    "mpl.rcParams.update({\"figure.constrained_layout.use\": True})\n",
    "sns.set_context(\"paper\") \n",
    "sns.set_palette(\"Set2\") \n",
    "sns.set_style(\"whitegrid\") \n",
    "\n",
    "plt.rc(\"font\", family = \"Malgun Gothic\")\n",
    "plt.rcParams[\"axes.unicode_minus\"] = False"
   ]
  },
  {
   "cell_type": "code",
   "execution_count": 4,
   "metadata": {},
   "outputs": [
    {
     "name": "stdout",
     "output_type": "stream",
     "text": [
      "Current working directory:  c:\\Users\\Administrator\\Desktop\\experiment\\code\n"
     ]
    }
   ],
   "source": [
    "# 기본 작업 경로 설정\n",
    "import os\n",
    "notebook_path = os.path.abspath(\"2_YOLO_finetunning.ipynb\")\n",
    "notebook_dir = os.path.dirname(notebook_path)\n",
    "os.chdir(notebook_dir)\n",
    "\n",
    "# 현재 작업 디렉토리 출력\n",
    "print(\"Current working directory: \", os.getcwd())"
   ]
  },
  {
   "cell_type": "code",
   "execution_count": null,
   "metadata": {},
   "outputs": [],
   "source": [
    "# 경로 설정 잘할 것\n",
    "import json\n",
    "\n",
    "# 1파일에서 모았던 data 파일을 잘 가져올 것. \n",
    "def openjson(path):\n",
    "\n",
    "    with open(path, encoding=\"cp949\") as f:\n",
    "        data = json.load(f)\n",
    "    return data\n",
    "\n",
    "trainjsons = []\n",
    "testjsons  = []\n",
    "validjsons = []\n",
    "\n",
    "trainjsons.extend([i for i in openjson('../data/image_data/train/label/train/train_anger.json')])\n",
    "trainjsons.extend([i for i in openjson('../data/image_data/train/label/train/train_happy.json')])\n",
    "trainjsons.extend([i for i in openjson('../data/image_data/train/label/train/train_panic.json')])\n",
    "trainjsons.extend([i for i in openjson('../data/image_data/train/label/train/train_sadness.json')])\n",
    "\n",
    "validjsons.extend([i for i in openjson('../data/image_data/train/label/val/val_anger.json')])\n",
    "validjsons.extend([i for i in openjson('../data/image_data/train/label/val/val_happy.json')])\n",
    "validjsons.extend([i for i in openjson('../data/image_data/train/label/val/val_panic.json')])\n",
    "validjsons.extend([i for i in openjson('../data/image_data/train/label/val/val_sadness.json')])\n",
    "\n",
    "testjsons.extend([i for i in openjson('../data/image_data/test/label/test_anger.json')])\n",
    "testjsons.extend([i for i in openjson('../data/image_data/test/label/test_happy.json')])\n",
    "testjsons.extend([i for i in openjson('../data/image_data/test/label/test_panic.json')])\n",
    "testjsons.extend([i for i in openjson('../data/image_data/test/label/test_sadness.json')])"
   ]
  },
  {
   "cell_type": "code",
   "execution_count": null,
   "metadata": {},
   "outputs": [],
   "source": [
    "# 마찬가지로 경로 설정 잘할 것 \n",
    "train_directory_path = '../data/image_data/train/img/train/'\n",
    "valid_directory_path = '../data/image_data/train/img/val/'\n",
    "test_directory_path = '../data/image_data/test/image/'"
   ]
  },
  {
   "cell_type": "code",
   "execution_count": 5,
   "metadata": {},
   "outputs": [
    {
     "ename": "NameError",
     "evalue": "name 'train_directory_path' is not defined",
     "output_type": "error",
     "traceback": [
      "\u001b[1;31m---------------------------------------------------------------------------\u001b[0m",
      "\u001b[1;31mNameError\u001b[0m                                 Traceback (most recent call last)",
      "Cell \u001b[1;32mIn[5], line 16\u001b[0m\n\u001b[0;32m     12\u001b[0m                 image_files\u001b[38;5;241m.\u001b[39mappend(os\u001b[38;5;241m.\u001b[39mpath\u001b[38;5;241m.\u001b[39mjoin(root, file))\n\u001b[0;32m     14\u001b[0m     \u001b[38;5;28;01mreturn\u001b[39;00m image_files\n\u001b[1;32m---> 16\u001b[0m paths_train \u001b[38;5;241m=\u001b[39m find_images(\u001b[43mtrain_directory_path\u001b[49m)\n\u001b[0;32m     17\u001b[0m paths_valid \u001b[38;5;241m=\u001b[39m find_images(valid_directory_path)\n\u001b[0;32m     18\u001b[0m paths_test \u001b[38;5;241m=\u001b[39m find_images(test_directory_path)\n",
      "\u001b[1;31mNameError\u001b[0m: name 'train_directory_path' is not defined"
     ]
    }
   ],
   "source": [
    "import os\n",
    "\n",
    "def find_images(root_dir):\n",
    "    # 이미지 확장자 목록\n",
    "    image_extensions = {'.jpg', '.jpeg', '.png', '.gif', '.bmp'}\n",
    "    \n",
    "    image_files = []\n",
    "    \n",
    "    for root, dirs, files in os.walk(root_dir):\n",
    "        for file in files:\n",
    "            if os.path.splitext(file)[1].lower() in image_extensions:\n",
    "                image_files.append(os.path.join(root, file))\n",
    "    \n",
    "    return image_files\n",
    "\n",
    "paths_train = find_images(train_directory_path)\n",
    "paths_valid = find_images(valid_directory_path)\n",
    "paths_test = find_images(test_directory_path)"
   ]
  },
  {
   "cell_type": "code",
   "execution_count": null,
   "metadata": {},
   "outputs": [],
   "source": [
    "# train 어노테이션 만들기 포 욜로10\n",
    "import cv2\n",
    "import os\n",
    "\n",
    "# 클래스 이름을 클래스 ID로 매핑하는 딕셔너리\n",
    "class_names = ['anger', 'sad', 'panic', 'happy']\n",
    "class_to_id = {name: idx for idx, name in enumerate(class_names)}\n",
    "\n",
    "def convert_bbox_to_yolo_format(image_size, bbox):\n",
    "    \"\"\"\n",
    "    바운딩 박스를 YOLO 형식으로 변환.\n",
    "    :param image_size: (width, height) 이미지 크기\n",
    "    :param bbox: {'minX': float, 'minY': float, 'maxX': float, 'maxY': float} 바운딩 박스 좌표\n",
    "    :return: (x_center, y_center, width, height) YOLO 형식의 바운딩 박스\n",
    "    \"\"\"\n",
    "    dw = 1.0 / image_size[0]\n",
    "    dh = 1.0 / image_size[1]\n",
    "    x_center = (bbox['minX'] + bbox['maxX']) / 2.0\n",
    "    y_center = (bbox['minY'] + bbox['maxY']) / 2.0\n",
    "    width = bbox['maxX'] - bbox['minX']\n",
    "    height = bbox['maxY'] - bbox['minY']\n",
    "    \n",
    "    # YOLO 형식에 맞게 좌표를 정규화\n",
    "    x_center = x_center * dw\n",
    "    y_center = y_center * dh\n",
    "    width = width * dw\n",
    "    height = height * dh\n",
    "    \n",
    "    return (x_center, y_center, width, height)\n",
    "\n",
    "def save_annotations(json_data, output_dir, image_size):\n",
    "    \"\"\"\n",
    "    이미지를 yolo 에 맞게\n",
    "    \"\"\"\n",
    "    if not os.path.exists(output_dir):\n",
    "        os.makedirs(output_dir)\n",
    "\n",
    "    for item in json_data:\n",
    "        image_file = item['filename']\n",
    "        image_name, _ = os.path.splitext(image_file)\n",
    "        txt_file_path = os.path.join(output_dir, f\"{image_name}.txt\")\n",
    "        \n",
    "        with open(txt_file_path, 'w') as f:\n",
    "            # Iterate over annotations (A, B, C)\n",
    "            annot = item.get('annot_A')\n",
    "            print(annot)\n",
    "            if annot:\n",
    "                bbox = annot['boxes']\n",
    "                print(bbox)\n",
    "                face_exp = item['faceExp_uploader']\n",
    "                print(face_exp)\n",
    "                class_id = class_to_id.get(face_exp, -1)\n",
    "                if class_id == -1:\n",
    "                    class_id = 3\n",
    "                print(class_id)\n",
    "                if class_id != -1:\n",
    "                    yolo_bbox = convert_bbox_to_yolo_format(image_size, bbox)\n",
    "                    print(yolo_bbox)\n",
    "                    f.write(f\"{class_id} {' '.join(map(str, yolo_bbox))}\\n\")\n",
    "                    print(f\"{class_id} {' '.join(map(str, yolo_bbox))}\\n\")"
   ]
  },
  {
   "cell_type": "code",
   "execution_count": null,
   "metadata": {},
   "outputs": [],
   "source": [
    "output_directory = '../data/yolo_data/./train/'\n",
    "\n",
    "for i in paths_train:\n",
    "    name_of_file = (i.split('/')[-1].split('.')[0])\n",
    "    for j in trainjsons:\n",
    "        if name_of_file in j['filename']:\n",
    "\n",
    "            # Check if annotation file already exists before saving\n",
    "            image_file = j['filename']\n",
    "            image_name, _ = os.path.splitext(image_file)\n",
    "            txt_file_path = os.path.join(output_directory, f\"{image_name}.txt\")\n",
    "            \n",
    "            if not os.path.exists(txt_file_path):\n",
    "                image = cv2.imread(i)\n",
    "                h, w, _ = image.shape\n",
    "                # 상대 위치로 결정되기 때문에 파일 크기가 필요하다\n",
    "                image_size = (w, h)\n",
    "                print(name_of_file)\n",
    "                print(image_size)\n",
    "                print(j['annot_A']['boxes'])\n",
    "                save_annotations([j], output_directory, image_size)\n",
    "                print('')\n",
    "            else:\n",
    "                print(f\"Annotation file already exists: {txt_file_path}\")"
   ]
  },
  {
   "cell_type": "code",
   "execution_count": null,
   "metadata": {},
   "outputs": [],
   "source": [
    "output_directory = '../data/yolo_data/./val/'\n",
    "\n",
    "for i in paths_valid:\n",
    "    name_of_file = (i.split('/')[-1].split('.')[0])\n",
    "    for j in validjsons:\n",
    "        if name_of_file in j['filename']:\n",
    "\n",
    "            # Check if annotation file already exists before saving\n",
    "            image_file = j['filename']\n",
    "            image_name, _ = os.path.splitext(image_file)\n",
    "            txt_file_path = os.path.join(output_directory, f\"{image_name}.txt\")\n",
    "            \n",
    "            if not os.path.exists(txt_file_path):\n",
    "                image = cv2.imread(i)\n",
    "                h, w, _ = image.shape\n",
    "                # 상대 위치로 결정되기 때문에 파일 크기가 필요하다\n",
    "                image_size = (w, h)\n",
    "                print(name_of_file)\n",
    "                print(image_size)\n",
    "                print(j['annot_A']['boxes'])\n",
    "                save_annotations([j], output_directory, image_size)\n",
    "                print('')\n",
    "            else:\n",
    "                print(f\"Annotation file already exists: {txt_file_path}\")"
   ]
  },
  {
   "cell_type": "code",
   "execution_count": null,
   "metadata": {},
   "outputs": [],
   "source": [
    "import numpy as np\n",
    "import matplotlib.pyplot as plt\n",
    "\n",
    "def convert_yolo_to_bbox(image_size, yolo_bbox):\n",
    "    \"\"\"\n",
    "    욜로 상대 좌표(점과 크기) 에서 절대 좌표로 변환\n",
    "    \"\"\"\n",
    "    img_height, img_width = image_size\n",
    "    x_center, y_center, width, height = yolo_bbox\n",
    "    \n",
    "    # Convert from relative coordinates to absolute coordinates\n",
    "    x_center_abs = x_center * img_width\n",
    "    y_center_abs = y_center * img_height\n",
    "    width_abs = width * img_width\n",
    "    height_abs = height * img_height\n",
    "    \n",
    "    # Calculate min and max coordinates\n",
    "    minX = int(x_center_abs - (width_abs / 2.0))\n",
    "    minY = int(y_center_abs - (height_abs / 2.0))\n",
    "    maxX = int(x_center_abs + (width_abs / 2.0))\n",
    "    maxY = int(y_center_abs + (height_abs / 2.0))\n",
    "    \n",
    "    return minX, minY, maxX, maxY\n",
    "\n",
    "path_test_img = '../data/yolo_data/train/'\n",
    "name = 'jwaccb50afa0212a340d07cd6204f4cd10aa5ab0b162c162a57f11431f7d3kdhp'\n",
    "image = cv2.imread(path_test_img + name +'.jpg')\n",
    "h, w ,_ = image.shape\n",
    "label_path = path_test_img + name + '.txt'\n",
    "with open(label_path, 'r') as f:\n",
    "    label__ =  f.read().split()\n",
    "\n",
    "label__ = [float(i) for i in  label__]\n",
    "\n",
    "recovered_pic_bb = convert_yolo_to_bbox((h,w),label__[1:])\n",
    "\n",
    "minX, minY, maxX, maxY = recovered_pic_bb\n",
    "\n",
    "image_rgb = cv2.cvtColor(image, cv2.COLOR_BGR2RGB)\n",
    "cv2.rectangle(image_rgb, (minX, minY), (maxX, maxY), (0, 255, 0), 10)\n",
    "plt.axis('off')\n",
    "\n",
    "plt.imshow(image_rgb)\n",
    "\n",
    "plt.text(minX, minY, int(label__[0]), color='white', fontsize=25,\n",
    "         ha='left', va='top')\n",
    "\n",
    "\n",
    "plt.show()"
   ]
  },
  {
   "cell_type": "code",
   "execution_count": null,
   "metadata": {},
   "outputs": [],
   "source": [
    "import urllib.request\n",
    "\n",
    "url = \"https://github.com/THU-MIG/yolov10/releases/download/v1.1/yolov10n.pt\"\n",
    "\n",
    "filename = os.path.basename(url)\n",
    "filepath = os.path.join('yolov10n.pt')\n",
    "urllib.request.urlretrieve(url, filepath)\n",
    "print(f\"Downloaded: {filepath}\")"
   ]
  },
  {
   "cell_type": "code",
   "execution_count": null,
   "metadata": {},
   "outputs": [],
   "source": [
    "#!pip install --upgrade ultralytics torch\n",
    "#!pip install git+https://github.com/THU-MIG/yolov10.git\n",
    "#!pip cache purge"
   ]
  },
  {
   "cell_type": "code",
   "execution_count": null,
   "metadata": {},
   "outputs": [],
   "source": [
    "# !pip install huggingface_hub"
   ]
  },
  {
   "cell_type": "code",
   "execution_count": null,
   "metadata": {},
   "outputs": [],
   "source": [
    "# 훈련한 모델 돌리기\n",
    "from ultralytics.models import YOLOv10\n",
    "model_for_train = YOLOv10(filepath)\n",
    "model_for_train.train(data=\"/mnt/e/py_data/project_3_git/data/yolo_data/wassup_data.yaml\", epochs=10, imgsz=512)"
   ]
  },
  {
   "cell_type": "code",
   "execution_count": null,
   "metadata": {},
   "outputs": [],
   "source": [
    "# 훈련된 모델 불러오기\n",
    "\n",
    "model_transfered = YOLOv10('../yolov10/runs/detect/train1/weights/best.pt')\n",
    "test_image = cv2.imread('../iu.png')\n",
    "model_transfered(test_image)[0].show()"
   ]
  },
  {
   "cell_type": "code",
   "execution_count": null,
   "metadata": {},
   "outputs": [],
   "source": []
  },
  {
   "cell_type": "code",
   "execution_count": null,
   "metadata": {},
   "outputs": [],
   "source": []
  },
  {
   "cell_type": "code",
   "execution_count": null,
   "metadata": {},
   "outputs": [],
   "source": []
  }
 ],
 "metadata": {
  "kernelspec": {
   "display_name": "Python 3",
   "language": "python",
   "name": "python3"
  },
  "language_info": {
   "codemirror_mode": {
    "name": "ipython",
    "version": 3
   },
   "file_extension": ".py",
   "mimetype": "text/x-python",
   "name": "python",
   "nbconvert_exporter": "python",
   "pygments_lexer": "ipython3",
   "version": "3.12.5"
  }
 },
 "nbformat": 4,
 "nbformat_minor": 2
}
